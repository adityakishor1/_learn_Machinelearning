{
 "cells": [
  {
   "cell_type": "code",
   "execution_count": 1,
   "id": "58d75bd4",
   "metadata": {
    "_cell_guid": "b1076dfc-b9ad-4769-8c92-a6c4dae69d19",
    "_uuid": "8f2839f25d086af736a60e9eeb907d3b93b6e0e5",
    "execution": {
     "iopub.execute_input": "2023-06-22T08:07:34.547538Z",
     "iopub.status.busy": "2023-06-22T08:07:34.547011Z",
     "iopub.status.idle": "2023-06-22T08:07:36.215472Z",
     "shell.execute_reply": "2023-06-22T08:07:36.214315Z"
    },
    "papermill": {
     "duration": 1.681241,
     "end_time": "2023-06-22T08:07:36.218371",
     "exception": false,
     "start_time": "2023-06-22T08:07:34.537130",
     "status": "completed"
    },
    "tags": []
   },
   "outputs": [
    {
     "name": "stdout",
     "output_type": "stream",
     "text": [
      "/kaggle/input/machine-learning-basics-for-beginners/scatterplot.JPG\n",
      "/kaggle/input/machine-learning-basics-for-beginners/different_lines.JPG\n",
      "/kaggle/input/machine-learning-basics-for-beginners/homeprices.csv\n",
      "/kaggle/input/machine-learning-basics-for-beginners/homepricetable.JPG\n",
      "/kaggle/input/machine-learning-basics-for-beginners/equation.PNG\n",
      "/kaggle/input/machine-learning-basics-for-beginners/prediction.csv\n",
      "/kaggle/input/machine-learning-basics-for-beginners/error_equation.jpg\n",
      "/kaggle/input/machine-learning-basics-for-beginners/areas.csv\n",
      "/kaggle/input/machine-learning-basics-for-beginners/linear_equation.png\n"
     ]
    }
   ],
   "source": [
    "# This Python 3 environment comes with many helpful analytics libraries installed\n",
    "# It is defined by the kaggle/python Docker image: https://github.com/kaggle/docker-python\n",
    "# For example, here's several helpful packages to load\n",
    "\n",
    "import pandas as pd\n",
    "import numpy as np\n",
    "from sklearn import linear_model\n",
    "import matplotlib.pyplot as plt\n",
    "\n",
    "# Input data files are available in the read-only \"../input/\" directory\n",
    "# For example, running this (by clicking run or pressing Shift+Enter) will list all files under the input directory\n",
    "\n",
    "import os\n",
    "for dirname, _, filenames in os.walk('/kaggle/input'):\n",
    "    for filename in filenames:\n",
    "        print(os.path.join(dirname, filename))\n",
    "\n",
    "# You can write up to 20GB to the current directory (/kaggle/working/) that gets preserved as output when you create a version using \"Save & Run All\" \n",
    "# You can also write temporary files to /kaggle/temp/, but they won't be saved outside of the current session"
   ]
  },
  {
   "cell_type": "markdown",
   "id": "b8c74f45",
   "metadata": {
    "papermill": {
     "duration": 0.006762,
     "end_time": "2023-06-22T08:07:36.233415",
     "exception": false,
     "start_time": "2023-06-22T08:07:36.226653",
     "status": "completed"
    },
    "tags": []
   },
   "source": [
    "<h1 style=\"color:green\" align=\"center\">Machine Learning With Python: Linear Regression With One Variable</h1>"
   ]
  },
  {
   "cell_type": "code",
   "execution_count": 2,
   "id": "d7077e47",
   "metadata": {
    "execution": {
     "iopub.execute_input": "2023-06-22T08:07:36.248984Z",
     "iopub.status.busy": "2023-06-22T08:07:36.248552Z",
     "iopub.status.idle": "2023-06-22T08:07:36.295107Z",
     "shell.execute_reply": "2023-06-22T08:07:36.293781Z"
    },
    "papermill": {
     "duration": 0.058191,
     "end_time": "2023-06-22T08:07:36.298407",
     "exception": false,
     "start_time": "2023-06-22T08:07:36.240216",
     "status": "completed"
    },
    "tags": []
   },
   "outputs": [
    {
     "data": {
      "text/html": [
       "<div>\n",
       "<style scoped>\n",
       "    .dataframe tbody tr th:only-of-type {\n",
       "        vertical-align: middle;\n",
       "    }\n",
       "\n",
       "    .dataframe tbody tr th {\n",
       "        vertical-align: top;\n",
       "    }\n",
       "\n",
       "    .dataframe thead th {\n",
       "        text-align: right;\n",
       "    }\n",
       "</style>\n",
       "<table border=\"1\" class=\"dataframe\">\n",
       "  <thead>\n",
       "    <tr style=\"text-align: right;\">\n",
       "      <th></th>\n",
       "      <th>area</th>\n",
       "      <th>price</th>\n",
       "    </tr>\n",
       "  </thead>\n",
       "  <tbody>\n",
       "    <tr>\n",
       "      <th>0</th>\n",
       "      <td>2600</td>\n",
       "      <td>550000</td>\n",
       "    </tr>\n",
       "    <tr>\n",
       "      <th>1</th>\n",
       "      <td>3000</td>\n",
       "      <td>565000</td>\n",
       "    </tr>\n",
       "    <tr>\n",
       "      <th>2</th>\n",
       "      <td>3200</td>\n",
       "      <td>610000</td>\n",
       "    </tr>\n",
       "    <tr>\n",
       "      <th>3</th>\n",
       "      <td>3600</td>\n",
       "      <td>680000</td>\n",
       "    </tr>\n",
       "    <tr>\n",
       "      <th>4</th>\n",
       "      <td>4000</td>\n",
       "      <td>725000</td>\n",
       "    </tr>\n",
       "    <tr>\n",
       "      <th>5</th>\n",
       "      <td>4400</td>\n",
       "      <td>770000</td>\n",
       "    </tr>\n",
       "    <tr>\n",
       "      <th>6</th>\n",
       "      <td>4800</td>\n",
       "      <td>815000</td>\n",
       "    </tr>\n",
       "    <tr>\n",
       "      <th>7</th>\n",
       "      <td>5200</td>\n",
       "      <td>860000</td>\n",
       "    </tr>\n",
       "  </tbody>\n",
       "</table>\n",
       "</div>"
      ],
      "text/plain": [
       "   area   price\n",
       "0  2600  550000\n",
       "1  3000  565000\n",
       "2  3200  610000\n",
       "3  3600  680000\n",
       "4  4000  725000\n",
       "5  4400  770000\n",
       "6  4800  815000\n",
       "7  5200  860000"
      ]
     },
     "execution_count": 2,
     "metadata": {},
     "output_type": "execute_result"
    }
   ],
   "source": [
    "df = pd.read_csv('/kaggle/input/machine-learning-basics-for-beginners/homeprices.csv')\n",
    "df"
   ]
  },
  {
   "cell_type": "code",
   "execution_count": 3,
   "id": "717618a5",
   "metadata": {
    "execution": {
     "iopub.execute_input": "2023-06-22T08:07:36.314700Z",
     "iopub.status.busy": "2023-06-22T08:07:36.314318Z",
     "iopub.status.idle": "2023-06-22T08:07:36.649464Z",
     "shell.execute_reply": "2023-06-22T08:07:36.648241Z"
    },
    "papermill": {
     "duration": 0.346333,
     "end_time": "2023-06-22T08:07:36.652010",
     "exception": false,
     "start_time": "2023-06-22T08:07:36.305677",
     "status": "completed"
    },
    "tags": []
   },
   "outputs": [
    {
     "data": {
      "text/plain": [
       "<matplotlib.collections.PathCollection at 0x7a48e8371bd0>"
      ]
     },
     "execution_count": 3,
     "metadata": {},
     "output_type": "execute_result"
    },
    {
     "data": {
      "image/png": "[encoded data removed]",
      "text/plain": [
       "<Figure size 640x480 with 1 Axes>"
      ]
     },
     "metadata": {},
     "output_type": "display_data"
    }
   ],
   "source": [
    "%matplotlib inline\n",
    "plt.xlabel('area')\n",
    "plt.ylabel('price')\n",
    "plt.scatter(df.area,df.price,color='red',marker='+')"
   ]
  },
  {
   "cell_type": "code",
   "execution_count": 4,
   "id": "a3636695",
   "metadata": {
    "execution": {
     "iopub.execute_input": "2023-06-22T08:07:36.670652Z",
     "iopub.status.busy": "2023-06-22T08:07:36.670172Z",
     "iopub.status.idle": "2023-06-22T08:07:36.686158Z",
     "shell.execute_reply": "2023-06-22T08:07:36.684919Z"
    },
    "papermill": {
     "duration": 0.029118,
     "end_time": "2023-06-22T08:07:36.688692",
     "exception": false,
     "start_time": "2023-06-22T08:07:36.659574",
     "status": "completed"
    },
    "tags": []
   },
   "outputs": [
    {
     "data": {
      "text/html": [
       "<div>\n",
       "<style scoped>\n",
       "    .dataframe tbody tr th:only-of-type {\n",
       "        vertical-align: middle;\n",
       "    }\n",
       "\n",
       "    .dataframe tbody tr th {\n",
       "        vertical-align: top;\n",
       "    }\n",
       "\n",
       "    .dataframe thead th {\n",
       "        text-align: right;\n",
       "    }\n",
       "</style>\n",
       "<table border=\"1\" class=\"dataframe\">\n",
       "  <thead>\n",
       "    <tr style=\"text-align: right;\">\n",
       "      <th></th>\n",
       "      <th>area</th>\n",
       "    </tr>\n",
       "  </thead>\n",
       "  <tbody>\n",
       "    <tr>\n",
       "      <th>0</th>\n",
       "      <td>2600</td>\n",
       "    </tr>\n",
       "    <tr>\n",
       "      <th>1</th>\n",
       "      <td>3000</td>\n",
       "    </tr>\n",
       "    <tr>\n",
       "      <th>2</th>\n",
       "      <td>3200</td>\n",
       "    </tr>\n",
       "    <tr>\n",
       "      <th>3</th>\n",
       "      <td>3600</td>\n",
       "    </tr>\n",
       "    <tr>\n",
       "      <th>4</th>\n",
       "      <td>4000</td>\n",
       "    </tr>\n",
       "    <tr>\n",
       "      <th>5</th>\n",
       "      <td>4400</td>\n",
       "    </tr>\n",
       "    <tr>\n",
       "      <th>6</th>\n",
       "      <td>4800</td>\n",
       "    </tr>\n",
       "    <tr>\n",
       "      <th>7</th>\n",
       "      <td>5200</td>\n",
       "    </tr>\n",
       "  </tbody>\n",
       "</table>\n",
       "</div>"
      ],
      "text/plain": [
       "   area\n",
       "0  2600\n",
       "1  3000\n",
       "2  3200\n",
       "3  3600\n",
       "4  4000\n",
       "5  4400\n",
       "6  4800\n",
       "7  5200"
      ]
     },
     "execution_count": 4,
     "metadata": {},
     "output_type": "execute_result"
    }
   ],
   "source": [
    "new_df = df.drop('price',axis='columns')\n",
    "new_df"
   ]
  },
  {
   "cell_type": "code",
   "execution_count": 5,
   "id": "25628f9f",
   "metadata": {
    "execution": {
     "iopub.execute_input": "2023-06-22T08:07:36.706671Z",
     "iopub.status.busy": "2023-06-22T08:07:36.706292Z",
     "iopub.status.idle": "2023-06-22T08:07:36.714133Z",
     "shell.execute_reply": "2023-06-22T08:07:36.713054Z"
    },
    "papermill": {
     "duration": 0.019676,
     "end_time": "2023-06-22T08:07:36.716391",
     "exception": false,
     "start_time": "2023-06-22T08:07:36.696715",
     "status": "completed"
    },
    "tags": []
   },
   "outputs": [
    {
     "data": {
      "text/plain": [
       "0    550000\n",
       "1    565000\n",
       "2    610000\n",
       "3    680000\n",
       "4    725000\n",
       "5    770000\n",
       "6    815000\n",
       "7    860000\n",
       "Name: price, dtype: int64"
      ]
     },
     "execution_count": 5,
     "metadata": {},
     "output_type": "execute_result"
    }
   ],
   "source": [
    "price = df.price\n",
    "price"
   ]
  },
  {
   "cell_type": "markdown",
   "id": "98f8bb6a",
   "metadata": {
    "papermill": {
     "duration": 0.007642,
     "end_time": "2023-06-22T08:07:36.733628",
     "exception": false,
     "start_time": "2023-06-22T08:07:36.725986",
     "status": "completed"
    },
    "tags": []
   },
   "source": [
    "# linear regression object"
   ]
  },
  {
   "cell_type": "code",
   "execution_count": 6,
   "id": "50f1b587",
   "metadata": {
    "execution": {
     "iopub.execute_input": "2023-06-22T08:07:36.752288Z",
     "iopub.status.busy": "2023-06-22T08:07:36.751904Z",
     "iopub.status.idle": "2023-06-22T08:07:36.779659Z",
     "shell.execute_reply": "2023-06-22T08:07:36.778426Z"
    },
    "papermill": {
     "duration": 0.040599,
     "end_time": "2023-06-22T08:07:36.782544",
     "exception": false,
     "start_time": "2023-06-22T08:07:36.741945",
     "status": "completed"
    },
    "tags": []
   },
   "outputs": [
    {
     "data": {
      "text/html": [
       "<style>#sk-container-id-1 {color: black;background-color: white;}#sk-container-id-1 pre{padding: 0;}#sk-container-id-1 div.sk-toggleable {background-color: white;}#sk-container-id-1 label.sk-toggleable__label {cursor: pointer;display: block;width: 100%;margin-bottom: 0;padding: 0.3em;box-sizing: border-box;text-align: center;}#sk-container-id-1 label.sk-toggleable__label-arrow:before {content: \"▸\";float: left;margin-right: 0.25em;color: #696969;}#sk-container-id-1 label.sk-toggleable__label-arrow:hover:before {color: black;}#sk-container-id-1 div.sk-estimator:hover label.sk-toggleable__label-arrow:before {color: black;}#sk-container-id-1 div.sk-toggleable__content {max-height: 0;max-width: 0;overflow: hidden;text-align: left;background-color: #f0f8ff;}#sk-container-id-1 div.sk-toggleable__content pre {margin: 0.2em;color: black;border-radius: 0.25em;background-color: #f0f8ff;}#sk-container-id-1 input.sk-toggleable__control:checked~div.sk-toggleable__content {max-height: 200px;max-width: 100%;overflow: auto;}#sk-container-id-1 input.sk-toggleable__control:checked~label.sk-toggleable__label-arrow:before {content: \"▾\";}#sk-container-id-1 div.sk-estimator input.sk-toggleable__control:checked~label.sk-toggleable__label {background-color: #d4ebff;}#sk-container-id-1 div.sk-label input.sk-toggleable__control:checked~label.sk-toggleable__label {background-color: #d4ebff;}#sk-container-id-1 input.sk-hidden--visually {border: 0;clip: rect(1px 1px 1px 1px);clip: rect(1px, 1px, 1px, 1px);height: 1px;margin: -1px;overflow: hidden;padding: 0;position: absolute;width: 1px;}#sk-container-id-1 div.sk-estimator {font-family: monospace;background-color: #f0f8ff;border: 1px dotted black;border-radius: 0.25em;box-sizing: border-box;margin-bottom: 0.5em;}#sk-container-id-1 div.sk-estimator:hover {background-color: #d4ebff;}#sk-container-id-1 div.sk-parallel-item::after {content: \"\";width: 100%;border-bottom: 1px solid gray;flex-grow: 1;}#sk-container-id-1 div.sk-label:hover label.sk-toggleable__label {background-color: #d4ebff;}#sk-container-id-1 div.sk-serial::before {content: \"\";position: absolute;border-left: 1px solid gray;box-sizing: border-box;top: 0;bottom: 0;left: 50%;z-index: 0;}#sk-container-id-1 div.sk-serial {display: flex;flex-direction: column;align-items: center;background-color: white;padding-right: 0.2em;padding-left: 0.2em;position: relative;}#sk-container-id-1 div.sk-item {position: relative;z-index: 1;}#sk-container-id-1 div.sk-parallel {display: flex;align-items: stretch;justify-content: center;background-color: white;position: relative;}#sk-container-id-1 div.sk-item::before, #sk-container-id-1 div.sk-parallel-item::before {content: \"\";position: absolute;border-left: 1px solid gray;box-sizing: border-box;top: 0;bottom: 0;left: 50%;z-index: -1;}#sk-container-id-1 div.sk-parallel-item {display: flex;flex-direction: column;z-index: 1;position: relative;background-color: white;}#sk-container-id-1 div.sk-parallel-item:first-child::after {align-self: flex-end;width: 50%;}#sk-container-id-1 div.sk-parallel-item:last-child::after {align-self: flex-start;width: 50%;}#sk-container-id-1 div.sk-parallel-item:only-child::after {width: 0;}#sk-container-id-1 div.sk-dashed-wrapped {border: 1px dashed gray;margin: 0 0.4em 0.5em 0.4em;box-sizing: border-box;padding-bottom: 0.4em;background-color: white;}#sk-container-id-1 div.sk-label label {font-family: monospace;font-weight: bold;display: inline-block;line-height: 1.2em;}#sk-container-id-1 div.sk-label-container {text-align: center;}#sk-container-id-1 div.sk-container {/* jupyter's `normalize.less` sets `[hidden] { display: none; }` but bootstrap.min.css set `[hidden] { display: none !important; }` so we also need the `!important` here to be able to override the default hidden behavior on the sphinx rendered scikit-learn.org. See: https://github.com/scikit-learn/scikit-learn/issues/21755 */display: inline-block !important;position: relative;}#sk-container-id-1 div.sk-text-repr-fallback {display: none;}</style><div id=\"sk-container-id-1\" class=\"sk-top-container\"><div class=\"sk-text-repr-fallback\"><pre>LinearRegression()</pre><b>In a Jupyter environment, please rerun this cell to show the HTML representation or trust the notebook. <br />On GitHub, the HTML representation is unable to render, please try loading this page with nbviewer.org.</b></div><div class=\"sk-container\" hidden><div class=\"sk-item\"><div class=\"sk-estimator sk-toggleable\"><input class=\"sk-toggleable__control sk-hidden--visually\" id=\"sk-estimator-id-1\" type=\"checkbox\" checked><label for=\"sk-estimator-id-1\" class=\"sk-toggleable__label sk-toggleable__label-arrow\">LinearRegression</label><div class=\"sk-toggleable__content\"><pre>LinearRegression()</pre></div></div></div></div></div>"
      ],
      "text/plain": [
       "LinearRegression()"
      ]
     },
     "execution_count": 6,
     "metadata": {},
     "output_type": "execute_result"
    }
   ],
   "source": [
    "# Create linear regression object\n",
    "reg = linear_model.LinearRegression()\n",
    "reg.fit(new_df,price)"
   ]
  },
  {
   "cell_type": "code",
   "execution_count": 7,
   "id": "0e2f6369",
   "metadata": {
    "execution": {
     "iopub.execute_input": "2023-06-22T08:07:36.801696Z",
     "iopub.status.busy": "2023-06-22T08:07:36.801006Z",
     "iopub.status.idle": "2023-06-22T08:07:36.811154Z",
     "shell.execute_reply": "2023-06-22T08:07:36.810143Z"
    },
    "papermill": {
     "duration": 0.022325,
     "end_time": "2023-06-22T08:07:36.813516",
     "exception": false,
     "start_time": "2023-06-22T08:07:36.791191",
     "status": "completed"
    },
    "tags": []
   },
   "outputs": [
    {
     "name": "stderr",
     "output_type": "stream",
     "text": [
      "/opt/conda/lib/python3.10/site-packages/sklearn/base.py:439: UserWarning: X does not have valid feature names, but LinearRegression was fitted with feature names\n",
      "  warnings.warn(\n"
     ]
    },
    {
     "data": {
      "text/plain": [
       "array([564587.62886598])"
      ]
     },
     "execution_count": 7,
     "metadata": {},
     "output_type": "execute_result"
    }
   ],
   "source": [
    "reg.predict([[2800]])"
   ]
  },
  {
   "cell_type": "code",
   "execution_count": 8,
   "id": "5ee14452",
   "metadata": {
    "execution": {
     "iopub.execute_input": "2023-06-22T08:07:36.832474Z",
     "iopub.status.busy": "2023-06-22T08:07:36.832082Z",
     "iopub.status.idle": "2023-06-22T08:07:36.838614Z",
     "shell.execute_reply": "2023-06-22T08:07:36.837517Z"
    },
    "papermill": {
     "duration": 0.01893,
     "end_time": "2023-06-22T08:07:36.841095",
     "exception": false,
     "start_time": "2023-06-22T08:07:36.822165",
     "status": "completed"
    },
    "tags": []
   },
   "outputs": [
    {
     "data": {
      "text/plain": [
       "array([125.98797251])"
      ]
     },
     "execution_count": 8,
     "metadata": {},
     "output_type": "execute_result"
    }
   ],
   "source": [
    "reg.coef_"
   ]
  },
  {
   "cell_type": "code",
   "execution_count": 9,
   "id": "43420c33",
   "metadata": {
    "execution": {
     "iopub.execute_input": "2023-06-22T08:07:36.860078Z",
     "iopub.status.busy": "2023-06-22T08:07:36.859677Z",
     "iopub.status.idle": "2023-06-22T08:07:36.866747Z",
     "shell.execute_reply": "2023-06-22T08:07:36.865472Z"
    },
    "papermill": {
     "duration": 0.019508,
     "end_time": "2023-06-22T08:07:36.869182",
     "exception": false,
     "start_time": "2023-06-22T08:07:36.849674",
     "status": "completed"
    },
    "tags": []
   },
   "outputs": [
    {
     "data": {
      "text/plain": [
       "211821.3058419245"
      ]
     },
     "execution_count": 9,
     "metadata": {},
     "output_type": "execute_result"
    }
   ],
   "source": [
    "reg.intercept_"
   ]
  },
  {
   "cell_type": "markdown",
   "id": "af7c5a56",
   "metadata": {
    "papermill": {
     "duration": 0.008575,
     "end_time": "2023-06-22T08:07:36.886898",
     "exception": false,
     "start_time": "2023-06-22T08:07:36.878323",
     "status": "completed"
    },
    "tags": []
   },
   "source": [
    "**Y = m * X + b (m is coefficient and b is intercept)**"
   ]
  },
  {
   "cell_type": "code",
   "execution_count": 10,
   "id": "40edcf2b",
   "metadata": {
    "execution": {
     "iopub.execute_input": "2023-06-22T08:07:36.906071Z",
     "iopub.status.busy": "2023-06-22T08:07:36.905671Z",
     "iopub.status.idle": "2023-06-22T08:07:36.912752Z",
     "shell.execute_reply": "2023-06-22T08:07:36.911771Z"
    },
    "papermill": {
     "duration": 0.019384,
     "end_time": "2023-06-22T08:07:36.914968",
     "exception": false,
     "start_time": "2023-06-22T08:07:36.895584",
     "status": "completed"
    },
    "tags": []
   },
   "outputs": [
    {
     "data": {
      "text/plain": [
       "560821.9178001643"
      ]
     },
     "execution_count": 10,
     "metadata": {},
     "output_type": "execute_result"
    }
   ],
   "source": [
    "2800*135.78767123 + 180616.43835616432"
   ]
  },
  {
   "cell_type": "markdown",
   "id": "c3d4d092",
   "metadata": {
    "papermill": {
     "duration": 0.009001,
     "end_time": "2023-06-22T08:07:36.933105",
     "exception": false,
     "start_time": "2023-06-22T08:07:36.924104",
     "status": "completed"
    },
    "tags": []
   },
   "source": [
    "**(1) Predict price of a home with area = 5000 sqr ft**"
   ]
  },
  {
   "cell_type": "code",
   "execution_count": 11,
   "id": "2d40562f",
   "metadata": {
    "execution": {
     "iopub.execute_input": "2023-06-22T08:07:36.953741Z",
     "iopub.status.busy": "2023-06-22T08:07:36.953330Z",
     "iopub.status.idle": "2023-06-22T08:07:36.962128Z",
     "shell.execute_reply": "2023-06-22T08:07:36.960877Z"
    },
    "papermill": {
     "duration": 0.021974,
     "end_time": "2023-06-22T08:07:36.964741",
     "exception": false,
     "start_time": "2023-06-22T08:07:36.942767",
     "status": "completed"
    },
    "tags": []
   },
   "outputs": [
    {
     "name": "stderr",
     "output_type": "stream",
     "text": [
      "/opt/conda/lib/python3.10/site-packages/sklearn/base.py:439: UserWarning: X does not have valid feature names, but LinearRegression was fitted with feature names\n",
      "  warnings.warn(\n"
     ]
    },
    {
     "data": {
      "text/plain": [
       "array([841761.16838488])"
      ]
     },
     "execution_count": 11,
     "metadata": {},
     "output_type": "execute_result"
    }
   ],
   "source": [
    "reg.predict([[5000]])"
   ]
  },
  {
   "cell_type": "markdown",
   "id": "ada7699b",
   "metadata": {
    "papermill": {
     "duration": 0.010646,
     "end_time": "2023-06-22T08:07:36.985407",
     "exception": false,
     "start_time": "2023-06-22T08:07:36.974761",
     "status": "completed"
    },
    "tags": []
   },
   "source": [
    "<h3 style=\"color:purple\">Generate CSV file with list of home price predictions</h3>"
   ]
  },
  {
   "cell_type": "code",
   "execution_count": 12,
   "id": "c89b21ff",
   "metadata": {
    "execution": {
     "iopub.execute_input": "2023-06-22T08:07:37.006008Z",
     "iopub.status.busy": "2023-06-22T08:07:37.005566Z",
     "iopub.status.idle": "2023-06-22T08:07:37.020332Z",
     "shell.execute_reply": "2023-06-22T08:07:37.019111Z"
    },
    "papermill": {
     "duration": 0.028095,
     "end_time": "2023-06-22T08:07:37.023002",
     "exception": false,
     "start_time": "2023-06-22T08:07:36.994907",
     "status": "completed"
    },
    "tags": []
   },
   "outputs": [
    {
     "data": {
      "text/html": [
       "<div>\n",
       "<style scoped>\n",
       "    .dataframe tbody tr th:only-of-type {\n",
       "        vertical-align: middle;\n",
       "    }\n",
       "\n",
       "    .dataframe tbody tr th {\n",
       "        vertical-align: top;\n",
       "    }\n",
       "\n",
       "    .dataframe thead th {\n",
       "        text-align: right;\n",
       "    }\n",
       "</style>\n",
       "<table border=\"1\" class=\"dataframe\">\n",
       "  <thead>\n",
       "    <tr style=\"text-align: right;\">\n",
       "      <th></th>\n",
       "      <th>area</th>\n",
       "    </tr>\n",
       "  </thead>\n",
       "  <tbody>\n",
       "    <tr>\n",
       "      <th>0</th>\n",
       "      <td>1000</td>\n",
       "    </tr>\n",
       "    <tr>\n",
       "      <th>1</th>\n",
       "      <td>1500</td>\n",
       "    </tr>\n",
       "    <tr>\n",
       "      <th>2</th>\n",
       "      <td>2300</td>\n",
       "    </tr>\n",
       "    <tr>\n",
       "      <th>3</th>\n",
       "      <td>3540</td>\n",
       "    </tr>\n",
       "    <tr>\n",
       "      <th>4</th>\n",
       "      <td>4120</td>\n",
       "    </tr>\n",
       "    <tr>\n",
       "      <th>5</th>\n",
       "      <td>4560</td>\n",
       "    </tr>\n",
       "    <tr>\n",
       "      <th>6</th>\n",
       "      <td>5490</td>\n",
       "    </tr>\n",
       "    <tr>\n",
       "      <th>7</th>\n",
       "      <td>3460</td>\n",
       "    </tr>\n",
       "    <tr>\n",
       "      <th>8</th>\n",
       "      <td>4750</td>\n",
       "    </tr>\n",
       "    <tr>\n",
       "      <th>9</th>\n",
       "      <td>2300</td>\n",
       "    </tr>\n",
       "    <tr>\n",
       "      <th>10</th>\n",
       "      <td>9000</td>\n",
       "    </tr>\n",
       "    <tr>\n",
       "      <th>11</th>\n",
       "      <td>8600</td>\n",
       "    </tr>\n",
       "    <tr>\n",
       "      <th>12</th>\n",
       "      <td>7100</td>\n",
       "    </tr>\n",
       "  </tbody>\n",
       "</table>\n",
       "</div>"
      ],
      "text/plain": [
       "    area\n",
       "0   1000\n",
       "1   1500\n",
       "2   2300\n",
       "3   3540\n",
       "4   4120\n",
       "5   4560\n",
       "6   5490\n",
       "7   3460\n",
       "8   4750\n",
       "9   2300\n",
       "10  9000\n",
       "11  8600\n",
       "12  7100"
      ]
     },
     "execution_count": 12,
     "metadata": {},
     "output_type": "execute_result"
    }
   ],
   "source": [
    "area_df = pd.read_csv(\"/kaggle/input/machine-learning-basics-for-beginners/areas.csv\")\n",
    "area_df"
   ]
  },
  {
   "cell_type": "code",
   "execution_count": 13,
   "id": "b192236d",
   "metadata": {
    "execution": {
     "iopub.execute_input": "2023-06-22T08:07:37.044097Z",
     "iopub.status.busy": "2023-06-22T08:07:37.043662Z",
     "iopub.status.idle": "2023-06-22T08:07:37.052609Z",
     "shell.execute_reply": "2023-06-22T08:07:37.051413Z"
    },
    "papermill": {
     "duration": 0.022513,
     "end_time": "2023-06-22T08:07:37.055309",
     "exception": false,
     "start_time": "2023-06-22T08:07:37.032796",
     "status": "completed"
    },
    "tags": []
   },
   "outputs": [
    {
     "data": {
      "text/plain": [
       "array([ 337809.27835052,  400803.26460481,  501593.64261168,\n",
       "        657818.72852234,  730891.75257732,  786326.4604811 ,\n",
       "        903495.27491409,  647739.69072165,  810264.17525773,\n",
       "        501593.64261168, 1345713.05841924, 1295317.86941581,\n",
       "       1106335.91065292])"
      ]
     },
     "execution_count": 13,
     "metadata": {},
     "output_type": "execute_result"
    }
   ],
   "source": [
    "p = reg.predict(area_df)\n",
    "p"
   ]
  },
  {
   "cell_type": "code",
   "execution_count": 14,
   "id": "40c21349",
   "metadata": {
    "execution": {
     "iopub.execute_input": "2023-06-22T08:07:37.076861Z",
     "iopub.status.busy": "2023-06-22T08:07:37.076459Z",
     "iopub.status.idle": "2023-06-22T08:07:37.090343Z",
     "shell.execute_reply": "2023-06-22T08:07:37.089270Z"
    },
    "papermill": {
     "duration": 0.027552,
     "end_time": "2023-06-22T08:07:37.092722",
     "exception": false,
     "start_time": "2023-06-22T08:07:37.065170",
     "status": "completed"
    },
    "tags": []
   },
   "outputs": [
    {
     "data": {
      "text/html": [
       "<div>\n",
       "<style scoped>\n",
       "    .dataframe tbody tr th:only-of-type {\n",
       "        vertical-align: middle;\n",
       "    }\n",
       "\n",
       "    .dataframe tbody tr th {\n",
       "        vertical-align: top;\n",
       "    }\n",
       "\n",
       "    .dataframe thead th {\n",
       "        text-align: right;\n",
       "    }\n",
       "</style>\n",
       "<table border=\"1\" class=\"dataframe\">\n",
       "  <thead>\n",
       "    <tr style=\"text-align: right;\">\n",
       "      <th></th>\n",
       "      <th>area</th>\n",
       "      <th>prices</th>\n",
       "    </tr>\n",
       "  </thead>\n",
       "  <tbody>\n",
       "    <tr>\n",
       "      <th>0</th>\n",
       "      <td>1000</td>\n",
       "      <td>3.378093e+05</td>\n",
       "    </tr>\n",
       "    <tr>\n",
       "      <th>1</th>\n",
       "      <td>1500</td>\n",
       "      <td>4.008033e+05</td>\n",
       "    </tr>\n",
       "    <tr>\n",
       "      <th>2</th>\n",
       "      <td>2300</td>\n",
       "      <td>5.015936e+05</td>\n",
       "    </tr>\n",
       "    <tr>\n",
       "      <th>3</th>\n",
       "      <td>3540</td>\n",
       "      <td>6.578187e+05</td>\n",
       "    </tr>\n",
       "    <tr>\n",
       "      <th>4</th>\n",
       "      <td>4120</td>\n",
       "      <td>7.308918e+05</td>\n",
       "    </tr>\n",
       "    <tr>\n",
       "      <th>5</th>\n",
       "      <td>4560</td>\n",
       "      <td>7.863265e+05</td>\n",
       "    </tr>\n",
       "    <tr>\n",
       "      <th>6</th>\n",
       "      <td>5490</td>\n",
       "      <td>9.034953e+05</td>\n",
       "    </tr>\n",
       "    <tr>\n",
       "      <th>7</th>\n",
       "      <td>3460</td>\n",
       "      <td>6.477397e+05</td>\n",
       "    </tr>\n",
       "    <tr>\n",
       "      <th>8</th>\n",
       "      <td>4750</td>\n",
       "      <td>8.102642e+05</td>\n",
       "    </tr>\n",
       "    <tr>\n",
       "      <th>9</th>\n",
       "      <td>2300</td>\n",
       "      <td>5.015936e+05</td>\n",
       "    </tr>\n",
       "    <tr>\n",
       "      <th>10</th>\n",
       "      <td>9000</td>\n",
       "      <td>1.345713e+06</td>\n",
       "    </tr>\n",
       "    <tr>\n",
       "      <th>11</th>\n",
       "      <td>8600</td>\n",
       "      <td>1.295318e+06</td>\n",
       "    </tr>\n",
       "    <tr>\n",
       "      <th>12</th>\n",
       "      <td>7100</td>\n",
       "      <td>1.106336e+06</td>\n",
       "    </tr>\n",
       "  </tbody>\n",
       "</table>\n",
       "</div>"
      ],
      "text/plain": [
       "    area        prices\n",
       "0   1000  3.378093e+05\n",
       "1   1500  4.008033e+05\n",
       "2   2300  5.015936e+05\n",
       "3   3540  6.578187e+05\n",
       "4   4120  7.308918e+05\n",
       "5   4560  7.863265e+05\n",
       "6   5490  9.034953e+05\n",
       "7   3460  6.477397e+05\n",
       "8   4750  8.102642e+05\n",
       "9   2300  5.015936e+05\n",
       "10  9000  1.345713e+06\n",
       "11  8600  1.295318e+06\n",
       "12  7100  1.106336e+06"
      ]
     },
     "execution_count": 14,
     "metadata": {},
     "output_type": "execute_result"
    }
   ],
   "source": [
    "area_df['prices']=p\n",
    "area_df"
   ]
  },
  {
   "cell_type": "code",
   "execution_count": 15,
   "id": "f330c936",
   "metadata": {
    "execution": {
     "iopub.execute_input": "2023-06-22T08:07:37.114456Z",
     "iopub.status.busy": "2023-06-22T08:07:37.114082Z",
     "iopub.status.idle": "2023-06-22T08:07:37.125908Z",
     "shell.execute_reply": "2023-06-22T08:07:37.124886Z"
    },
    "papermill": {
     "duration": 0.026033,
     "end_time": "2023-06-22T08:07:37.128648",
     "exception": false,
     "start_time": "2023-06-22T08:07:37.102615",
     "status": "completed"
    },
    "tags": []
   },
   "outputs": [],
   "source": [
    "area_df.to_csv(\"prediction.csv\")"
   ]
  },
  {
   "cell_type": "code",
   "execution_count": null,
   "id": "ab6c7b83",
   "metadata": {
    "papermill": {
     "duration": 0.011046,
     "end_time": "2023-06-22T08:07:37.150087",
     "exception": false,
     "start_time": "2023-06-22T08:07:37.139041",
     "status": "completed"
    },
    "tags": []
   },
   "outputs": [],
   "source": []
  }
 ],
 "metadata": {
  "kernelspec": {
   "display_name": "Python 3",
   "language": "python",
   "name": "python3"
  },
  "language_info": {
   "codemirror_mode": {
    "name": "ipython",
    "version": 3
   },
   "file_extension": ".py",
   "mimetype": "text/x-python",
   "name": "python",
   "nbconvert_exporter": "python",
   "pygments_lexer": "ipython3",
   "version": "3.10.10"
  },
  "papermill": {
   "default_parameters": {},
   "duration": 16.572213,
   "end_time": "2023-06-22T08:07:38.183629",
   "environment_variables": {},
   "exception": null,
   "input_path": "__notebook__.ipynb",
   "output_path": "__notebook__.ipynb",
   "parameters": {},
   "start_time": "2023-06-22T08:07:21.611416",
   "version": "2.4.0"
  }
 },
 "nbformat": 4,
 "nbformat_minor": 5
}
