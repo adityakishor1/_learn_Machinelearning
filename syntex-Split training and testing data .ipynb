{
 "cells": [
  {
   "cell_type": "markdown",
   "id": "9dd8e207-0cac-47c6-8db3-3d8c16f1a47f",
   "metadata": {},
   "source": [
    "# Syntex"
   ]
  },
  {
   "cell_type": "markdown",
   "id": "0da358d3-b84f-4497-a49d-d5a0cfaa7ad8",
   "metadata": {},
   "source": [
    "*Training and testing data*"
   ]
  },
  {
   "cell_type": "code",
   "execution_count": null,
   "id": "b4c99746-d044-4b4d-bc52-d0a318d4e801",
   "metadata": {},
   "outputs": [],
   "source": [
    "#import Library \n",
    "from sklearn.model_selection import train_test_split\n",
    "\n",
    "# Example syntax\n",
    "X_train, X_test, y_train, y_test = train_test_split(X, y, test_size=0.2, random_state=42)\n"
   ]
  },
  {
   "cell_type": "markdown",
   "id": "d650714b-f552-4dc0-ae9b-74e02cf3e25e",
   "metadata": {},
   "source": [
    "**Parameters:**\n",
    "*X:* Features (independent variables) as a pandas DataFrame or NumPy array.\n",
    "\n",
    "y: Labels (dependent variable) as a pandas Series or NumPy array.\n",
    "\n",
    "test_size: Proportion of the dataset to include in the test split (e.g., 0.2 means 20% test data).\n",
    "\n",
    "random_state: Seed for the random number generator (to ensure reproducibility)."
   ]
  },
  {
   "cell_type": "markdown",
   "id": "48c06380-89eb-4b60-b283-19419eb2aa87",
   "metadata": {},
   "source": [
    "# Example:"
   ]
  },
  {
   "cell_type": "code",
   "execution_count": null,
   "id": "85ef0972-0c73-48d4-bdfb-8a10e652f205",
   "metadata": {},
   "outputs": [],
   "source": [
    "import pandas as pd\n",
    "from sklearn.model_selection import train_test_split\n",
    "\n",
    "# Sample dataset\n",
    "data = {\n",
    "    'Feature1': [1, 2, 3, 4, 5],\n",
    "    'Feature2': [6, 7, 8, 9, 10],\n",
    "    'Label': [0, 1, 0, 1, 0]\n",
    "}\n",
    "\n",
    "df = pd.DataFrame(data)\n",
    "\n",
    "# Features and labels\n",
    "X = df[['Feature1', 'Feature2']]\n",
    "y = df['Label']\n",
    "\n",
    "# Split into train and test sets\n",
    "X_train, X_test, y_train, y_test = train_test_split(X, y, test_size=0.2, random_state=42)\n",
    "\n",
    "# Display splits\n",
    "print(\"X_train:\\n\", X_train)\n",
    "print(\"X_test:\\n\", X_test)\n",
    "print(\"y_train:\\n\", y_train)\n",
    "print(\"y_test:\\n\", y_test)\n"
   ]
  }
 ],
 "metadata": {
  "kernelspec": {
   "display_name": "Python 3 (ipykernel)",
   "language": "python",
   "name": "python3"
  },
  "language_info": {
   "codemirror_mode": {
    "name": "ipython",
    "version": 3
   },
   "file_extension": ".py",
   "mimetype": "text/x-python",
   "name": "python",
   "nbconvert_exporter": "python",
   "pygments_lexer": "ipython3",
   "version": "3.11.4"
  }
 },
 "nbformat": 4,
 "nbformat_minor": 5
}
